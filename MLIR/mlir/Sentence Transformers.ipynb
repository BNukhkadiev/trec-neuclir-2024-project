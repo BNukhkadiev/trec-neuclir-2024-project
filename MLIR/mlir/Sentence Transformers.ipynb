{
 "cells": [
  {
   "cell_type": "code",
   "execution_count": 1,
   "metadata": {},
   "outputs": [],
   "source": [
    "import pandas as pd\n",
    "import torch\n",
    "from sentence_transformers import SentenceTransformer, util\n",
    "import ir_datasets\n",
    "import random"
   ]
  },
  {
   "cell_type": "markdown",
   "metadata": {},
   "source": [
    "# Collecting data"
   ]
  },
  {
   "cell_type": "code",
   "execution_count": 2,
   "metadata": {},
   "outputs": [],
   "source": [
    "dataset = ir_datasets.load(\"neuclir/1/multi/trec-2023\")"
   ]
  },
  {
   "cell_type": "code",
   "execution_count": null,
   "metadata": {},
   "outputs": [],
   "source": [
    "documents_df = pd.read_csv('sbert_documents.csv')\n",
    "qrels_df = pd.DataFrame(dataset.qrels_iter())\n",
    "queries_df = pd.DataFrame(dataset.queries_iter())\n",
    "qrels_doc_ids = set(qrels_df[\"doc_id\"])"
   ]
  },
  {
   "cell_type": "code",
   "execution_count": 4,
   "metadata": {},
   "outputs": [
    {
     "data": {
      "text/html": [
       "<div>\n",
       "<style scoped>\n",
       "    .dataframe tbody tr th:only-of-type {\n",
       "        vertical-align: middle;\n",
       "    }\n",
       "\n",
       "    .dataframe tbody tr th {\n",
       "        vertical-align: top;\n",
       "    }\n",
       "\n",
       "    .dataframe thead th {\n",
       "        text-align: right;\n",
       "    }\n",
       "</style>\n",
       "<table border=\"1\" class=\"dataframe\">\n",
       "  <thead>\n",
       "    <tr style=\"text-align: right;\">\n",
       "      <th></th>\n",
       "      <th>id</th>\n",
       "      <th>title</th>\n",
       "      <th>content</th>\n",
       "      <th>title_embedding</th>\n",
       "      <th>content_embedding</th>\n",
       "    </tr>\n",
       "  </thead>\n",
       "  <tbody>\n",
       "    <tr>\n",
       "      <th>0</th>\n",
       "      <td>7707eaec-e3a6-422a-9e49-68ef7d2baaec</td>\n",
       "      <td>健康：身體和精神健康相互作用和影響背後的原理</td>\n",
       "      <td>健康：身體和精神健康相互作用和影響背後的原理\\n\\n10 分钟前\\n\\n圖像來源，Getty...</td>\n",
       "      <td>tensor([ 1.7091e-01,  1.1061e-01,  7.6357e-03,...</td>\n",
       "      <td>tensor([ 0.2471, -0.0563,  0.1989,  0.2372,  0...</td>\n",
       "    </tr>\n",
       "    <tr>\n",
       "      <th>1</th>\n",
       "      <td>27a8ca18-15fa-4f80-af10-d0fa53968995</td>\n",
       "      <td>尼羅河水爭奪戰越演越烈 聯合國安理會將召開會議</td>\n",
       "      <td>埃塞俄比亞復興大壩第二期蓄水工程遭到藍尼羅河下游國家蘇丹與埃及的強烈反對，聯合國安理會在突尼...</td>\n",
       "      <td>tensor([ 1.7681e-01,  1.0508e-01, -6.0566e-02,...</td>\n",
       "      <td>tensor([-0.1660,  0.1614, -0.0299, -0.0677,  0...</td>\n",
       "    </tr>\n",
       "    <tr>\n",
       "      <th>2</th>\n",
       "      <td>2e7d5130-d497-4f8c-9132-a4dc22ca6ce8</td>\n",
       "      <td>Visa：旗下虛擬貨幣卡上半年使用量逾10億美元</td>\n",
       "      <td>Visa Inc.財務總監Vasant Prabhu周三(7日)表示，今年上半年，旗下虛擬貨...</td>\n",
       "      <td>tensor([ 1.7375e-01,  2.0704e-02, -2.7007e-01,...</td>\n",
       "      <td>tensor([ 1.2213e-01, -5.1399e-02, -1.6382e-01,...</td>\n",
       "    </tr>\n",
       "    <tr>\n",
       "      <th>3</th>\n",
       "      <td>fdc63781-a14a-47c5-8518-8774df8d0e51</td>\n",
       "      <td>大蛇潛馬桶 偷襲如廁男</td>\n",
       "      <td>奧地利一名六十五歲男子在家中上廁所時，突遭到一條一點六米長的蟒蛇咬傷下體，所幸只受到輕傷，沒...</td>\n",
       "      <td>tensor([-0.1478,  0.1569,  0.1280, -0.1398, -0...</td>\n",
       "      <td>tensor([-1.6577e-01,  1.3552e-01,  1.7160e-01,...</td>\n",
       "    </tr>\n",
       "    <tr>\n",
       "      <th>4</th>\n",
       "      <td>f55f74b2-433b-478f-9b1b-158eb7cfa783</td>\n",
       "      <td>野火烟雾缭绕，BC 省专家支招如何在糟糕空气中保护自己</td>\n",
       "      <td>BC 省南部内陆大部分地区已经发出空气质量警告，而且 BC 省的火灾风险一直处于高位。\\n\\...</td>\n",
       "      <td>tensor([ 0.0198,  0.4940, -0.1451,  0.1459,  0...</td>\n",
       "      <td>tensor([ 0.0918,  0.2722,  0.0957,  0.1512,  0...</td>\n",
       "    </tr>\n",
       "  </tbody>\n",
       "</table>\n",
       "</div>"
      ],
      "text/plain": [
       "                                     id                        title  \\\n",
       "0  7707eaec-e3a6-422a-9e49-68ef7d2baaec       健康：身體和精神健康相互作用和影響背後的原理   \n",
       "1  27a8ca18-15fa-4f80-af10-d0fa53968995      尼羅河水爭奪戰越演越烈 聯合國安理會將召開會議   \n",
       "2  2e7d5130-d497-4f8c-9132-a4dc22ca6ce8     Visa：旗下虛擬貨幣卡上半年使用量逾10億美元   \n",
       "3  fdc63781-a14a-47c5-8518-8774df8d0e51                  大蛇潛馬桶 偷襲如廁男   \n",
       "4  f55f74b2-433b-478f-9b1b-158eb7cfa783  野火烟雾缭绕，BC 省专家支招如何在糟糕空气中保护自己   \n",
       "\n",
       "                                             content  \\\n",
       "0  健康：身體和精神健康相互作用和影響背後的原理\\n\\n10 分钟前\\n\\n圖像來源，Getty...   \n",
       "1  埃塞俄比亞復興大壩第二期蓄水工程遭到藍尼羅河下游國家蘇丹與埃及的強烈反對，聯合國安理會在突尼...   \n",
       "2  Visa Inc.財務總監Vasant Prabhu周三(7日)表示，今年上半年，旗下虛擬貨...   \n",
       "3  奧地利一名六十五歲男子在家中上廁所時，突遭到一條一點六米長的蟒蛇咬傷下體，所幸只受到輕傷，沒...   \n",
       "4  BC 省南部内陆大部分地区已经发出空气质量警告，而且 BC 省的火灾风险一直处于高位。\\n\\...   \n",
       "\n",
       "                                     title_embedding  \\\n",
       "0  tensor([ 1.7091e-01,  1.1061e-01,  7.6357e-03,...   \n",
       "1  tensor([ 1.7681e-01,  1.0508e-01, -6.0566e-02,...   \n",
       "2  tensor([ 1.7375e-01,  2.0704e-02, -2.7007e-01,...   \n",
       "3  tensor([-0.1478,  0.1569,  0.1280, -0.1398, -0...   \n",
       "4  tensor([ 0.0198,  0.4940, -0.1451,  0.1459,  0...   \n",
       "\n",
       "                                   content_embedding  \n",
       "0  tensor([ 0.2471, -0.0563,  0.1989,  0.2372,  0...  \n",
       "1  tensor([-0.1660,  0.1614, -0.0299, -0.0677,  0...  \n",
       "2  tensor([ 1.2213e-01, -5.1399e-02, -1.6382e-01,...  \n",
       "3  tensor([-1.6577e-01,  1.3552e-01,  1.7160e-01,...  \n",
       "4  tensor([ 0.0918,  0.2722,  0.0957,  0.1512,  0...  "
      ]
     },
     "execution_count": 4,
     "metadata": {},
     "output_type": "execute_result"
    }
   ],
   "source": [
    "documents_df.head()"
   ]
  },
  {
   "cell_type": "code",
   "execution_count": 5,
   "metadata": {},
   "outputs": [
    {
     "name": "stdout",
     "output_type": "stream",
     "text": [
      "76\n"
     ]
    },
    {
     "data": {
      "text/html": [
       "<div>\n",
       "<style scoped>\n",
       "    .dataframe tbody tr th:only-of-type {\n",
       "        vertical-align: middle;\n",
       "    }\n",
       "\n",
       "    .dataframe tbody tr th {\n",
       "        vertical-align: top;\n",
       "    }\n",
       "\n",
       "    .dataframe thead th {\n",
       "        text-align: right;\n",
       "    }\n",
       "</style>\n",
       "<table border=\"1\" class=\"dataframe\">\n",
       "  <thead>\n",
       "    <tr style=\"text-align: right;\">\n",
       "      <th></th>\n",
       "      <th>query_id</th>\n",
       "      <th>title</th>\n",
       "      <th>description</th>\n",
       "      <th>narrative</th>\n",
       "      <th>fa_mt_title</th>\n",
       "      <th>fa_mt_description</th>\n",
       "      <th>fa_mt_narrative</th>\n",
       "      <th>ru_mt_title</th>\n",
       "      <th>ru_mt_description</th>\n",
       "      <th>ru_mt_narrative</th>\n",
       "      <th>zh_mt_title</th>\n",
       "      <th>zh_mt_description</th>\n",
       "      <th>zh_mt_narrative</th>\n",
       "    </tr>\n",
       "  </thead>\n",
       "  <tbody>\n",
       "    <tr>\n",
       "      <th>0</th>\n",
       "      <td>200</td>\n",
       "      <td>Corruption Bribery Sports Federation Olympics</td>\n",
       "      <td>Are there cases of Institutional Corruption an...</td>\n",
       "      <td>We are Looking for articles that contain a cas...</td>\n",
       "      <td>المپیک فدراسیون ورزشی رشوه خواری فساد</td>\n",
       "      <td>آیا مواردی از فساد نهادی و رشوه خواری در ورزش ...</td>\n",
       "      <td>ما به دنبال مقالاتی هستیم که حاوی یک مورد فساد...</td>\n",
       "      <td>Олимпийские игры Федерации спортивных игр корр...</td>\n",
       "      <td>Существуют ли случаи институциональной коррупц...</td>\n",
       "      <td>Мы ищем статьи, которые содержат случай финанс...</td>\n",
       "      <td>腐败贿赂体育联合会奥运会</td>\n",
       "      <td>体育中是否存在机构腐败和贿赂的案例？</td>\n",
       "      <td>我们正在寻找在机构层面上包含金融腐败或贿赂案件的文章。奥运会和体育联合会中的贿赂案件是相关的...</td>\n",
       "    </tr>\n",
       "    <tr>\n",
       "      <th>1</th>\n",
       "      <td>201</td>\n",
       "      <td>China investment in Iran</td>\n",
       "      <td>In what fields or industries China’s investmen...</td>\n",
       "      <td>We need articles that specify at least one fie...</td>\n",
       "      <td>سرمایه گذاری چین در ایران</td>\n",
       "      <td>در کدام زمینه ها یا صنایع سرمایه گذاری چین در ...</td>\n",
       "      <td>ما به مقالاتی نیاز داریم که حداقل یک زمینه سرم...</td>\n",
       "      <td>Китайские инвестиции в Иран</td>\n",
       "      <td>В каких областях или промышленности инвестиции...</td>\n",
       "      <td>Нам нужны статьи, в которых указано хотя бы од...</td>\n",
       "      <td>中国对伊朗的投资</td>\n",
       "      <td>在哪些领域或行业中，中国对伊朗的投资是？</td>\n",
       "      <td>我们需要至少指定一个投资领域的文章，无论是皮带和道路倡议，石油，水坝等。货币的投资金额不提及...</td>\n",
       "    </tr>\n",
       "    <tr>\n",
       "      <th>2</th>\n",
       "      <td>202</td>\n",
       "      <td>Emerging technologies, precision farming, smar...</td>\n",
       "      <td>What are some of the latest emerging technolog...</td>\n",
       "      <td>Find articles on emerging technologies in prec...</td>\n",
       "      <td>فن آوری های نوظهور ، کشاورزی دقیق ، کشاورزی هو...</td>\n",
       "      <td>برخی از جدیدترین فن آوری های نوظهور که صنعت کش...</td>\n",
       "      <td>مقالاتی در مورد فن آوری های نوظهور در کشاورزی ...</td>\n",
       "      <td>Новые технологии, точное сельское хозяйство, у...</td>\n",
       "      <td>Каковы некоторые из последних новых технологий...</td>\n",
       "      <td>Найдите статьи о новых технологиях в области т...</td>\n",
       "      <td>新兴技术，精确农业，智能农业，农业</td>\n",
       "      <td>哪些最新的新兴技术正在改变农业行业？</td>\n",
       "      <td>查找有关精确农业和农业中新兴技术的文章，这些文章提供了这些技术如何用于提高农作物产量并提高农...</td>\n",
       "    </tr>\n",
       "    <tr>\n",
       "      <th>3</th>\n",
       "      <td>203</td>\n",
       "      <td>Ever Given's Stuck</td>\n",
       "      <td>Find information about the ship Ever Given bei...</td>\n",
       "      <td>Find articles on the event when the container ...</td>\n",
       "      <td>تا به حال گیر کرده است</td>\n",
       "      <td>اطلاعات مربوط به کشتی را که در کانال سوئز گیر ...</td>\n",
       "      <td>مقالاتی را در مورد این رویداد پیدا کنید که کشت...</td>\n",
       "      <td>Когда -либо дал застрял</td>\n",
       "      <td>Найдите информацию о корабле, когда -либо заст...</td>\n",
       "      <td>Найдите статьи на мероприятии, когда контейнер...</td>\n",
       "      <td>曾经被卡住了</td>\n",
       "      <td>查找有关被困在苏伊士运河的船的信息</td>\n",
       "      <td>在2021年春季遇到的集装箱船被困在苏伊士运河中时，请查找有关事件的事件的文章。包括有关事件...</td>\n",
       "    </tr>\n",
       "    <tr>\n",
       "      <th>4</th>\n",
       "      <td>204</td>\n",
       "      <td>Penalty doping sports stop</td>\n",
       "      <td>What strategies are used to reduce/stop doping...</td>\n",
       "      <td>Any mention of the monetary penalties or exclu...</td>\n",
       "      <td>مجازات دوپینگ ورزش توقف</td>\n",
       "      <td>از چه استراتژی هایی برای کاهش/متوقف کردن دوپین...</td>\n",
       "      <td>هرگونه ذکر مجازات های پولی یا محرومیت تیم ها ی...</td>\n",
       "      <td>Спортивная остановка пенальти</td>\n",
       "      <td>Какие стратегии используются для уменьшения/ос...</td>\n",
       "      <td>Любое упоминание о денежных наказаниях или иск...</td>\n",
       "      <td>点球兴奋剂运动停止</td>\n",
       "      <td>哪些策略用于减少运动中的掺杂？</td>\n",
       "      <td>包括任何提及货币罚款或排除在团队中或夺回奖牌的罚款。接受掺杂的测试将不被视为预防措施。</td>\n",
       "    </tr>\n",
       "  </tbody>\n",
       "</table>\n",
       "</div>"
      ],
      "text/plain": [
       "  query_id                                              title  \\\n",
       "0      200      Corruption Bribery Sports Federation Olympics   \n",
       "1      201                           China investment in Iran   \n",
       "2      202  Emerging technologies, precision farming, smar...   \n",
       "3      203                                 Ever Given's Stuck   \n",
       "4      204                         Penalty doping sports stop   \n",
       "\n",
       "                                         description  \\\n",
       "0  Are there cases of Institutional Corruption an...   \n",
       "1  In what fields or industries China’s investmen...   \n",
       "2  What are some of the latest emerging technolog...   \n",
       "3  Find information about the ship Ever Given bei...   \n",
       "4  What strategies are used to reduce/stop doping...   \n",
       "\n",
       "                                           narrative  \\\n",
       "0  We are Looking for articles that contain a cas...   \n",
       "1  We need articles that specify at least one fie...   \n",
       "2  Find articles on emerging technologies in prec...   \n",
       "3  Find articles on the event when the container ...   \n",
       "4  Any mention of the monetary penalties or exclu...   \n",
       "\n",
       "                                         fa_mt_title  \\\n",
       "0              المپیک فدراسیون ورزشی رشوه خواری فساد   \n",
       "1                          سرمایه گذاری چین در ایران   \n",
       "2  فن آوری های نوظهور ، کشاورزی دقیق ، کشاورزی هو...   \n",
       "3                             تا به حال گیر کرده است   \n",
       "4                            مجازات دوپینگ ورزش توقف   \n",
       "\n",
       "                                   fa_mt_description  \\\n",
       "0  آیا مواردی از فساد نهادی و رشوه خواری در ورزش ...   \n",
       "1  در کدام زمینه ها یا صنایع سرمایه گذاری چین در ...   \n",
       "2  برخی از جدیدترین فن آوری های نوظهور که صنعت کش...   \n",
       "3  اطلاعات مربوط به کشتی را که در کانال سوئز گیر ...   \n",
       "4  از چه استراتژی هایی برای کاهش/متوقف کردن دوپین...   \n",
       "\n",
       "                                     fa_mt_narrative  \\\n",
       "0  ما به دنبال مقالاتی هستیم که حاوی یک مورد فساد...   \n",
       "1  ما به مقالاتی نیاز داریم که حداقل یک زمینه سرم...   \n",
       "2  مقالاتی در مورد فن آوری های نوظهور در کشاورزی ...   \n",
       "3  مقالاتی را در مورد این رویداد پیدا کنید که کشت...   \n",
       "4  هرگونه ذکر مجازات های پولی یا محرومیت تیم ها ی...   \n",
       "\n",
       "                                         ru_mt_title  \\\n",
       "0  Олимпийские игры Федерации спортивных игр корр...   \n",
       "1                        Китайские инвестиции в Иран   \n",
       "2  Новые технологии, точное сельское хозяйство, у...   \n",
       "3                            Когда -либо дал застрял   \n",
       "4                      Спортивная остановка пенальти   \n",
       "\n",
       "                                   ru_mt_description  \\\n",
       "0  Существуют ли случаи институциональной коррупц...   \n",
       "1  В каких областях или промышленности инвестиции...   \n",
       "2  Каковы некоторые из последних новых технологий...   \n",
       "3  Найдите информацию о корабле, когда -либо заст...   \n",
       "4  Какие стратегии используются для уменьшения/ос...   \n",
       "\n",
       "                                     ru_mt_narrative        zh_mt_title  \\\n",
       "0  Мы ищем статьи, которые содержат случай финанс...       腐败贿赂体育联合会奥运会   \n",
       "1  Нам нужны статьи, в которых указано хотя бы од...           中国对伊朗的投资   \n",
       "2  Найдите статьи о новых технологиях в области т...  新兴技术，精确农业，智能农业，农业   \n",
       "3  Найдите статьи на мероприятии, когда контейнер...             曾经被卡住了   \n",
       "4  Любое упоминание о денежных наказаниях или иск...          点球兴奋剂运动停止   \n",
       "\n",
       "      zh_mt_description                                    zh_mt_narrative  \n",
       "0    体育中是否存在机构腐败和贿赂的案例？  我们正在寻找在机构层面上包含金融腐败或贿赂案件的文章。奥运会和体育联合会中的贿赂案件是相关的...  \n",
       "1  在哪些领域或行业中，中国对伊朗的投资是？  我们需要至少指定一个投资领域的文章，无论是皮带和道路倡议，石油，水坝等。货币的投资金额不提及...  \n",
       "2    哪些最新的新兴技术正在改变农业行业？  查找有关精确农业和农业中新兴技术的文章，这些文章提供了这些技术如何用于提高农作物产量并提高农...  \n",
       "3     查找有关被困在苏伊士运河的船的信息  在2021年春季遇到的集装箱船被困在苏伊士运河中时，请查找有关事件的事件的文章。包括有关事件...  \n",
       "4       哪些策略用于减少运动中的掺杂？        包括任何提及货币罚款或排除在团队中或夺回奖牌的罚款。接受掺杂的测试将不被视为预防措施。  "
      ]
     },
     "execution_count": 5,
     "metadata": {},
     "output_type": "execute_result"
    }
   ],
   "source": [
    "print(queries_df.shape[0])\n",
    "queries_df.head()"
   ]
  },
  {
   "cell_type": "code",
   "execution_count": 6,
   "metadata": {},
   "outputs": [
    {
     "data": {
      "text/html": [
       "<div>\n",
       "<style scoped>\n",
       "    .dataframe tbody tr th:only-of-type {\n",
       "        vertical-align: middle;\n",
       "    }\n",
       "\n",
       "    .dataframe tbody tr th {\n",
       "        vertical-align: top;\n",
       "    }\n",
       "\n",
       "    .dataframe thead th {\n",
       "        text-align: right;\n",
       "    }\n",
       "</style>\n",
       "<table border=\"1\" class=\"dataframe\">\n",
       "  <thead>\n",
       "    <tr style=\"text-align: right;\">\n",
       "      <th></th>\n",
       "      <th>query_id</th>\n",
       "      <th>doc_id</th>\n",
       "      <th>relevance</th>\n",
       "      <th>iteration</th>\n",
       "    </tr>\n",
       "  </thead>\n",
       "  <tbody>\n",
       "    <tr>\n",
       "      <th>0</th>\n",
       "      <td>200</td>\n",
       "      <td>00258365-6d48-49cc-901f-578b883c8226</td>\n",
       "      <td>1</td>\n",
       "      <td>fas</td>\n",
       "    </tr>\n",
       "    <tr>\n",
       "      <th>1</th>\n",
       "      <td>200</td>\n",
       "      <td>010fd82c-4423-41a6-ac56-4d036ccf0524</td>\n",
       "      <td>2</td>\n",
       "      <td>fas</td>\n",
       "    </tr>\n",
       "    <tr>\n",
       "      <th>2</th>\n",
       "      <td>200</td>\n",
       "      <td>013c3243-d1b5-47e6-bcf5-26c092ac9ff5</td>\n",
       "      <td>0</td>\n",
       "      <td>fas</td>\n",
       "    </tr>\n",
       "    <tr>\n",
       "      <th>3</th>\n",
       "      <td>200</td>\n",
       "      <td>01aed8a4-f1b9-4729-97f0-525338029268</td>\n",
       "      <td>0</td>\n",
       "      <td>fas</td>\n",
       "    </tr>\n",
       "    <tr>\n",
       "      <th>4</th>\n",
       "      <td>200</td>\n",
       "      <td>01e59322-b610-4d44-9ecd-81bfad2f2b5e</td>\n",
       "      <td>0</td>\n",
       "      <td>fas</td>\n",
       "    </tr>\n",
       "  </tbody>\n",
       "</table>\n",
       "</div>"
      ],
      "text/plain": [
       "  query_id                                doc_id  relevance iteration\n",
       "0      200  00258365-6d48-49cc-901f-578b883c8226          1       fas\n",
       "1      200  010fd82c-4423-41a6-ac56-4d036ccf0524          2       fas\n",
       "2      200  013c3243-d1b5-47e6-bcf5-26c092ac9ff5          0       fas\n",
       "3      200  01aed8a4-f1b9-4729-97f0-525338029268          0       fas\n",
       "4      200  01e59322-b610-4d44-9ecd-81bfad2f2b5e          0       fas"
      ]
     },
     "execution_count": 6,
     "metadata": {},
     "output_type": "execute_result"
    }
   ],
   "source": [
    "qrels_df.head()"
   ]
  },
  {
   "cell_type": "markdown",
   "metadata": {},
   "source": [
    "# Ranking Documents"
   ]
  },
  {
   "cell_type": "markdown",
   "metadata": {},
   "source": [
    "### Load model"
   ]
  },
  {
   "cell_type": "code",
   "execution_count": null,
   "metadata": {},
   "outputs": [],
   "source": [
    "model_name = \"sentence-transformers/paraphrase-MiniLM-L6-v2\"\n",
    "st_model = SentenceTransformer(model_name)"
   ]
  },
  {
   "cell_type": "markdown",
   "metadata": {},
   "source": [
    "### Genearte embeddings"
   ]
  },
  {
   "cell_type": "code",
   "execution_count": 8,
   "metadata": {},
   "outputs": [],
   "source": [
    "from torch.utils.data import DataLoader\n",
    "\n",
    "def generate_embeddings(texts, model, batch_size=32):\n",
    "    embeddings = []\n",
    "    # for handling batching\n",
    "    dataloader = DataLoader(texts, batch_size=batch_size, shuffle=False)\n",
    "    with torch.no_grad():\n",
    "        for batch_texts in dataloader:\n",
    "            # Encode the batch and collect embeddings\n",
    "            batch_embeddings = model.encode(batch_texts, convert_to_tensor=True, show_progress_bar=False)\n",
    "            embeddings.append(batch_embeddings)\n",
    "    \n",
    "    return torch.cat(embeddings, dim=0)"
   ]
  },
  {
   "cell_type": "code",
   "execution_count": null,
   "metadata": {},
   "outputs": [
    {
     "name": "stdout",
     "output_type": "stream",
     "text": [
      "Generating query embeddings...\n"
     ]
    }
   ],
   "source": [
    "# Generate embeddings for queries\n",
    "query_texts = queries_df['title'].tolist()\n",
    "query_embeddings = generate_embeddings(query_texts, st_model)\n",
    "\n",
    "# Generate embeddings for documents\n",
    "doc_contents = documents_df['content'].tolist()\n",
    "doc_ids = documents_df['id'].tolist()\n",
    "doc_embeddings = generate_embeddings(doc_contents, st_model)"
   ]
  },
  {
   "cell_type": "markdown",
   "metadata": {},
   "source": [
    "### Rank Documents"
   ]
  },
  {
   "cell_type": "code",
   "execution_count": null,
   "metadata": {},
   "outputs": [
    {
     "name": "stderr",
     "output_type": "stream",
     "text": [
      "Processing queries: 100%|██████████| 76/76 [00:17<00:00,  4.36it/s]"
     ]
    },
    {
     "name": "stdout",
     "output_type": "stream",
     "text": [
      "Processed ranking for 76 queries.\n"
     ]
    },
    {
     "name": "stderr",
     "output_type": "stream",
     "text": [
      "\n"
     ]
    }
   ],
   "source": [
    "from tqdm import tqdm\n",
    "from sentence_transformers import util\n",
    "\n",
    "query_embeddings = query_embeddings.cpu()\n",
    "doc_content_embeddings = doc_content_embeddings.cpu()\n",
    "\n",
    "ranked_results = {}\n",
    "\n",
    "for idx in tqdm(range(len(query_embeddings)), total=len(query_embeddings), desc=\"Processing queries\"):\n",
    "    query_id = queries_df.iloc[idx]['query_id']\n",
    "    \n",
    "    # Get the query embedding from the tensor\n",
    "    query_embedding = query_embeddings[idx]\n",
    "    \n",
    "    # Ensure the query_embedding has the correct shape\n",
    "    if len(query_embedding.shape) == 1:\n",
    "        query_embedding = query_embedding.unsqueeze(0)\n",
    "    \n",
    "    # Calculate cosine similarities\n",
    "    similarities = util.cos_sim(query_embedding, doc_content_embeddings)\n",
    "    similarities = similarities[0]\n",
    "    \n",
    "    ranked_indices = similarities.argsort(descending=True)\n",
    "    ranked_results[query_id] = [{\"doc_id\": doc_ids[i], \"score\": similarities[i].item()} for i in ranked_indices]\n",
    "\n",
    "print(f\"Processed ranking for {len(ranked_results)} queries.\")\n"
   ]
  },
  {
   "cell_type": "code",
   "execution_count": 17,
   "metadata": {},
   "outputs": [
    {
     "name": "stdout",
     "output_type": "stream",
     "text": [
      "Query ID: 200\n",
      "  Doc ID: b7d9703b-bbe4-46e4-8b2f-1e4c4ef4ea20, Score: 0.555435061454773\n",
      "  Doc ID: c8b66c15-d538-4f8a-9534-f5adfca6188c, Score: 0.527833104133606\n",
      "  Doc ID: 99a91ff3-c6f9-43bc-8963-2e21468d6b20, Score: 0.5186973214149475\n",
      "  Doc ID: fb49ace6-aaa3-4ce0-a6bb-5504213cac27, Score: 0.5180222392082214\n",
      "  Doc ID: c6fa30d0-dbfc-4bc3-892c-5e95a65f46b1, Score: 0.515623927116394\n",
      "Query ID: 201\n",
      "  Doc ID: d865da36-55e8-4500-a676-32b7a7ffbe11, Score: 0.6288976073265076\n",
      "  Doc ID: 97524236-14b3-4a5c-a0dc-5c9326745140, Score: 0.6276373863220215\n",
      "  Doc ID: 0b656f7f-40bc-4df0-8b5c-82cbb5c22834, Score: 0.6238518953323364\n",
      "  Doc ID: d7dfd276-e1dd-412d-8d2e-dda97412a80a, Score: 0.621002733707428\n",
      "  Doc ID: 8bb7673a-3292-4e2d-9541-d8959d87d480, Score: 0.6117416620254517\n",
      "Query ID: 202\n",
      "  Doc ID: d0b160f5-f4e6-4fa9-88e9-0e88ec4ccd1f, Score: 0.5949203968048096\n",
      "  Doc ID: e86e2307-a04b-4268-a600-b780a4223b8d, Score: 0.5854308605194092\n",
      "  Doc ID: 3e07b790-0e75-4a0a-bceb-5bfcce84a7f3, Score: 0.5725286602973938\n",
      "  Doc ID: b6671c93-9d2e-4203-90f7-d1f6e87ef0c6, Score: 0.5722623467445374\n",
      "  Doc ID: 89820dd1-9119-431e-851c-4fc9c7142d43, Score: 0.5709778070449829\n",
      "Query ID: 203\n",
      "  Doc ID: 3357ccdd-3c04-401c-8249-95a254f1c9c7, Score: 0.4798411726951599\n",
      "  Doc ID: bda69788-60c1-49e5-b85b-4f1d755bc015, Score: 0.44397208094596863\n",
      "  Doc ID: e83954ed-a509-4694-a4fa-d6e66124546c, Score: 0.3949624001979828\n",
      "  Doc ID: aa880e10-a8af-445b-9c78-cd448ea28a72, Score: 0.38619449734687805\n",
      "  Doc ID: fdc4f361-6a4c-45c2-8d98-4af1ca627111, Score: 0.3853934109210968\n",
      "Query ID: 204\n",
      "  Doc ID: b9c44071-250d-4ec2-b5be-46aa82e6c1b1, Score: 0.48809146881103516\n",
      "  Doc ID: cdc15e30-8058-46b4-aeef-4aec4f1f9eb9, Score: 0.4768376350402832\n",
      "  Doc ID: 8609b198-1567-4159-b690-d410e5442c96, Score: 0.4731224477291107\n",
      "  Doc ID: 766b85ea-5994-4ff3-90ea-3020ef9316ae, Score: 0.47190311551094055\n",
      "  Doc ID: 2555641a-971a-4b5a-a6f5-e92bf2b7221c, Score: 0.4680553078651428\n"
     ]
    }
   ],
   "source": [
    "# Print the first 5\n",
    "for query_id, results in list(ranked_results.items())[:5]:\n",
    "    print(f\"Query ID: {query_id}\")\n",
    "    for result in results[:5]:  # Print top 5 results for each query\n",
    "        print(f\"  Doc ID: {result['doc_id']}, Score: {result['score']}\")"
   ]
  },
  {
   "cell_type": "markdown",
   "metadata": {},
   "source": [
    "## Evaluation"
   ]
  },
  {
   "cell_type": "code",
   "execution_count": 19,
   "metadata": {},
   "outputs": [],
   "source": [
    "valid_doc_ids = set(documents_df['id'])\n",
    "qrels_df = pd.DataFrame(dataset.qrels_iter())"
   ]
  },
  {
   "cell_type": "code",
   "execution_count": 20,
   "metadata": {},
   "outputs": [
    {
     "name": "stdout",
     "output_type": "stream",
     "text": [
      "Evaluation Metrics:\n",
      "AP: 0.2116\n",
      "RBP(rel=1): 0.4230\n",
      "nDCG@20: 0.2915\n",
      "R@100: 0.2158\n",
      "R@1000: 0.6472\n"
     ]
    }
   ],
   "source": [
    "import ir_measures\n",
    "from ir_measures import ScoredDoc, Qrel\n",
    "\n",
    "\n",
    "for query_id, docs in ranked_results.items():\n",
    "    ranked_results[query_id] = sorted(docs, key=lambda x: x['score'], reverse=True)\n",
    "\n",
    "qrels = [\n",
    "    Qrel(query_id=row['query_id'], doc_id=row['doc_id'], relevance=int(row['relevance']))\n",
    "    for _, row in qrels_df.iterrows()\n",
    "]\n",
    "\n",
    "results = [\n",
    "    ScoredDoc(query_id=query_id, doc_id=doc['doc_id'], score=float(doc['score']))\n",
    "    for query_id, docs in ranked_results.items()\n",
    "    for doc in docs\n",
    "]\n",
    "\n",
    "metrics = [\n",
    "    ir_measures.nDCG @ 20,   # nDCG@20\n",
    "    ir_measures.AP,          # Average Precision\n",
    "    ir_measures.RBP(rel=1),  # RBP with relevance=1\n",
    "    ir_measures.R @ 100,     # Recall@100\n",
    "    ir_measures.R @ 1000     # Recall@1000\n",
    "]\n",
    "\n",
    "evaluation = ir_measures.calc_aggregate(metrics, qrels, results)\n",
    "\n",
    "print(\"Evaluation Metrics:\")\n",
    "for metric, value in evaluation.items():\n",
    "    print(f\"{metric}: {value:.4f}\")\n"
   ]
  }
 ],
 "metadata": {
  "kernelspec": {
   "display_name": "my_env",
   "language": "python",
   "name": "python3"
  },
  "language_info": {
   "codemirror_mode": {
    "name": "ipython",
    "version": 3
   },
   "file_extension": ".py",
   "mimetype": "text/x-python",
   "name": "python",
   "nbconvert_exporter": "python",
   "pygments_lexer": "ipython3",
   "version": "3.11.4"
  }
 },
 "nbformat": 4,
 "nbformat_minor": 2
}
