{
 "cells": [
  {
   "cell_type": "markdown",
   "metadata": {},
   "source": [
    "# Imports"
   ]
  },
  {
   "cell_type": "code",
   "execution_count": null,
   "metadata": {},
   "outputs": [
    {
     "name": "stderr",
     "output_type": "stream",
     "text": [
      "C:\\Users\\aasalem\\AppData\\Local\\Packages\\PythonSoftwareFoundation.Python.3.11_qbz5n2kfra8p0\\LocalCache\\local-packages\\Python311\\site-packages\\sentence_transformers\\cross_encoder\\CrossEncoder.py:13: TqdmWarning: IProgress not found. Please update jupyter and ipywidgets. See https://ipywidgets.readthedocs.io/en/stable/user_install.html\n",
      "  from tqdm.autonotebook import tqdm, trange\n"
     ]
    },
    {
     "name": "stdout",
     "output_type": "stream",
     "text": [
      "WARNING:tensorflow:From C:\\Users\\aasalem\\AppData\\Local\\Packages\\PythonSoftwareFoundation.Python.3.11_qbz5n2kfra8p0\\LocalCache\\local-packages\\Python311\\site-packages\\tf_keras\\src\\losses.py:2976: The name tf.losses.sparse_softmax_cross_entropy is deprecated. Please use tf.compat.v1.losses.sparse_softmax_cross_entropy instead.\n",
      "\n"
     ]
    }
   ],
   "source": [
    "import math\n",
    "import torch\n",
    "import ir_datasets\n",
    "import numpy as np\n",
    "import pandas as pd\n",
    "import matplotlib.pyplot as plt\n",
    "from collections import defaultdict\n",
    "from scipy.spatial.distance import cdist\n",
    "from sklearn.metrics.pairwise import cosine_similarity\n",
    "from sentence_transformers import SentenceTransformer, util \n",
    "from ir_measures import Qrel, ScoredDoc, nDCG, MAP, Recall, calc_aggregate"
   ]
  },
  {
   "cell_type": "markdown",
   "metadata": {},
   "source": [
    "# Dataset"
   ]
  },
  {
   "cell_type": "code",
   "execution_count": 2,
   "metadata": {},
   "outputs": [
    {
     "data": {
      "text/plain": [
       "Dataset(id='neuclir/1/ru/trec-2023', provides=['docs', 'queries', 'qrels'])"
      ]
     },
     "execution_count": 2,
     "metadata": {},
     "output_type": "execute_result"
    }
   ],
   "source": [
    "dataset = ir_datasets.load(\"neuclir/1/ru/trec-2023\")\n",
    "dataset"
   ]
  },
  {
   "cell_type": "code",
   "execution_count": 3,
   "metadata": {},
   "outputs": [],
   "source": [
    "russian_documents = [(doc.doc_id, doc.title, doc.text) for doc in dataset.docs_iter()]"
   ]
  },
  {
   "cell_type": "code",
   "execution_count": 4,
   "metadata": {},
   "outputs": [],
   "source": [
    "english_queries = [(query.query_id, query.title) for query in dataset.queries_iter()]"
   ]
  },
  {
   "cell_type": "code",
   "execution_count": 5,
   "metadata": {},
   "outputs": [],
   "source": [
    "qrels = [(qrel.query_id, qrel.doc_id, qrel.relevance) for qrel in dataset.qrels_iter()]"
   ]
  },
  {
   "cell_type": "markdown",
   "metadata": {},
   "source": [
    "# Functions"
   ]
  },
  {
   "cell_type": "code",
   "execution_count": 7,
   "metadata": {},
   "outputs": [],
   "source": [
    "def rbp(retrieved_results, qrels, p=0.8):\n",
    "    from collections import defaultdict\n",
    "    qrels_dict = defaultdict(set)\n",
    "\n",
    "    # Process qrels into a dictionary\n",
    "    for qrel in qrels:\n",
    "        query_id = qrel.query_id\n",
    "        doc_id = qrel.doc_id\n",
    "        relevance = qrel.relevance\n",
    "        if relevance > 0:  # Only consider relevant documents (rel >= 1)\n",
    "            qrels_dict[query_id].add(doc_id)\n",
    "\n",
    "    rbp_scores = {}\n",
    "    for query_id, retrieved_docs in retrieved_results.items():\n",
    "        score = 0\n",
    "        for rank, (doc_id, _) in enumerate(retrieved_docs, start=1):\n",
    "            if doc_id in qrels_dict.get(query_id, set()):\n",
    "                score += (1 - p) * (p ** (rank - 1))\n",
    "        rbp_scores[query_id] = score\n",
    "\n",
    "    return rbp_scores\n"
   ]
  },
  {
   "cell_type": "markdown",
   "metadata": {},
   "source": [
    "# Embeddings"
   ]
  },
  {
   "cell_type": "code",
   "execution_count": 5,
   "metadata": {},
   "outputs": [],
   "source": [
    "model = SentenceTransformer('sentence-transformers/paraphrase-multilingual-MiniLM-L12-v2')"
   ]
  },
  {
   "cell_type": "code",
   "execution_count": 39,
   "metadata": {},
   "outputs": [],
   "source": [
    "# Encode the documents and queries\n",
    "document_embeddings = model.encode([doc[2] for doc in russian_documents], convert_to_tensor=True)\n",
    "query_embeddings = model.encode([query[1] for query in english_queries], convert_to_tensor=True)"
   ]
  },
  {
   "cell_type": "code",
   "execution_count": 50,
   "metadata": {},
   "outputs": [],
   "source": [
    "torch.save(document_embeddings, 'document_embeddings.pt')\n",
    "torch.save(query_embeddings, 'query_embeddings.pt')"
   ]
  },
  {
   "cell_type": "code",
   "execution_count": 6,
   "metadata": {},
   "outputs": [
    {
     "name": "stderr",
     "output_type": "stream",
     "text": [
      "C:\\Users\\aasalem\\AppData\\Local\\Temp\\ipykernel_77336\\1983063088.py:2: FutureWarning: You are using `torch.load` with `weights_only=False` (the current default value), which uses the default pickle module implicitly. It is possible to construct malicious pickle data which will execute arbitrary code during unpickling (See https://github.com/pytorch/pytorch/blob/main/SECURITY.md#untrusted-models for more details). In a future release, the default value for `weights_only` will be flipped to `True`. This limits the functions that could be executed during unpickling. Arbitrary objects will no longer be allowed to be loaded via this mode unless they are explicitly allowlisted by the user via `torch.serialization.add_safe_globals`. We recommend you start setting `weights_only=True` for any use case where you don't have full control of the loaded file. Please open an issue on GitHub for any issues related to this experimental feature.\n",
      "  document_embeddings = torch.load('document_embeddings.pt')\n",
      "C:\\Users\\aasalem\\AppData\\Local\\Temp\\ipykernel_77336\\1983063088.py:3: FutureWarning: You are using `torch.load` with `weights_only=False` (the current default value), which uses the default pickle module implicitly. It is possible to construct malicious pickle data which will execute arbitrary code during unpickling (See https://github.com/pytorch/pytorch/blob/main/SECURITY.md#untrusted-models for more details). In a future release, the default value for `weights_only` will be flipped to `True`. This limits the functions that could be executed during unpickling. Arbitrary objects will no longer be allowed to be loaded via this mode unless they are explicitly allowlisted by the user via `torch.serialization.add_safe_globals`. We recommend you start setting `weights_only=True` for any use case where you don't have full control of the loaded file. Please open an issue on GitHub for any issues related to this experimental feature.\n",
      "  query_embeddings = torch.load('query_embeddings.pt')\n"
     ]
    }
   ],
   "source": [
    "# Load embeddings\n",
    "document_embeddings = torch.load('document_embeddings.pt')\n",
    "query_embeddings = torch.load('query_embeddings.pt')"
   ]
  },
  {
   "cell_type": "markdown",
   "metadata": {},
   "source": [
    "# Training"
   ]
  },
  {
   "cell_type": "code",
   "execution_count": null,
   "metadata": {},
   "outputs": [],
   "source": [
    "# Convert qrels to Qrel objects\n",
    "qrels_ir = [Qrel(query_id=qrel.query_id, doc_id=qrel.doc_id, relevance=qrel.relevance) for qrel in dataset.qrels_iter()]\n",
    "# Define the number of top documents to retrieve\n",
    "top_k = 1000"
   ]
  },
  {
   "cell_type": "markdown",
   "metadata": {},
   "source": [
    "## Cosine Similarity"
   ]
  },
  {
   "cell_type": "code",
   "execution_count": 11,
   "metadata": {},
   "outputs": [],
   "source": [
    "cosine_results = []\n",
    "for query_idx, query_embedding in enumerate(query_embeddings):\n",
    "    # Compute cosine similarities between this query and all document embeddings\n",
    "    similarities = util.cos_sim(query_embedding, document_embeddings)[0]\n",
    "\n",
    "    # Get the top-k most similar documents\n",
    "    top_k_scores, top_k_indices = torch.topk(similarities, k=top_k)\n",
    "\n",
    "    # Collect results for this query\n",
    "    query_id = english_queries[query_idx][0]  # Assuming the first element is query_id\n",
    "    cosine_results.extend([\n",
    "        ScoredDoc(query_id=query_id, doc_id=russian_documents[doc_idx][0], score=top_k_scores[i].item())\n",
    "        for i, doc_idx in enumerate(top_k_indices)\n",
    "    ])"
   ]
  },
  {
   "cell_type": "markdown",
   "metadata": {},
   "source": [
    "## Dot Product"
   ]
  },
  {
   "cell_type": "code",
   "execution_count": 12,
   "metadata": {},
   "outputs": [
    {
     "name": "stderr",
     "output_type": "stream",
     "text": [
      "C:\\Users\\aasalem\\AppData\\Local\\Temp\\ipykernel_77336\\2299024426.py:6: UserWarning: The use of `x.T` on tensors of dimension other than 2 to reverse their shape is deprecated and it will throw an error in a future release. Consider `x.mT` to transpose batches of matrices or `x.permute(*torch.arange(x.ndim - 1, -1, -1))` to reverse the dimensions of a tensor. (Triggered internally at C:\\actions-runner\\_work\\pytorch\\pytorch\\builder\\windows\\pytorch\\aten\\src\\ATen\\native\\TensorShape.cpp:3687.)\n",
      "  similarities = torch.matmul(document_embeddings, query_embedding.T).squeeze()  # Shape: (num_documents,)\n"
     ]
    }
   ],
   "source": [
    "# Initialize a dictionary to store the top-k results for each query\n",
    "dot_product_results = []\n",
    "\n",
    "for query_idx, query_embedding in enumerate(query_embeddings):\n",
    "    # Compute dot product similarities between this query and all document embeddings\n",
    "    similarities = torch.matmul(document_embeddings, query_embedding.T).squeeze()  # Shape: (num_documents,)\n",
    "\n",
    "    # Get the top-k most similar documents\n",
    "    actual_top_k = min(top_k, similarities.size(0))  # Adjust top_k to avoid out-of-range errors\n",
    "    top_k_scores, top_k_indices = torch.topk(similarities, k=actual_top_k)\n",
    "\n",
    "    # Collect results for this query\n",
    "    query_id = english_queries[query_idx][0]  # Assuming the first element is query_id\n",
    "    dot_product_results.extend([\n",
    "        ScoredDoc(query_id=query_id, doc_id=russian_documents[doc_idx][0], score=top_k_scores[i].item())\n",
    "        for i, doc_idx in enumerate(top_k_indices)\n",
    "    ])"
   ]
  },
  {
   "cell_type": "markdown",
   "metadata": {},
   "source": [
    "## Euclidean"
   ]
  },
  {
   "cell_type": "code",
   "execution_count": 13,
   "metadata": {},
   "outputs": [],
   "source": [
    "# Initialize a list to store the top-k results for each query\n",
    "euclidean_results = []\n",
    "\n",
    "for query_idx, query_embedding in enumerate(query_embeddings):\n",
    "    # Compute Euclidean distance between this query and all document embeddings\n",
    "    distances = torch.norm(document_embeddings - query_embedding, dim=1)  # Shape: (num_documents,)\n",
    "\n",
    "    # Invert the distance to treat it as a similarity score (higher is better)\n",
    "    similarities = -distances  # Use negative distances for ranking\n",
    "\n",
    "    # Get the top-k most similar documents\n",
    "    actual_top_k = min(top_k, similarities.size(0))  # Adjust top_k to avoid out-of-range errors\n",
    "    top_k_scores, top_k_indices = torch.topk(similarities, k=actual_top_k)\n",
    "\n",
    "    # Collect results for this query\n",
    "    query_id = english_queries[query_idx][0]  # Assuming the first element is query_id\n",
    "    euclidean_results.extend([\n",
    "        ScoredDoc(query_id=query_id, doc_id=russian_documents[doc_idx][0], score=top_k_scores[i].item())\n",
    "        for i, doc_idx in enumerate(top_k_indices)\n",
    "    ])"
   ]
  },
  {
   "cell_type": "markdown",
   "metadata": {},
   "source": [
    "# Evaluation"
   ]
  },
  {
   "cell_type": "code",
   "execution_count": null,
   "metadata": {},
   "outputs": [
    {
     "name": "stdout",
     "output_type": "stream",
     "text": [
      "       Metric    Cosine  Dot Product  Euclidean\n",
      "0      R@1000  0.450669     0.406472   0.449983\n",
      "1       R@100  0.219919     0.173834   0.219508\n",
      "2     nDCG@20  0.231095     0.153991   0.225209\n",
      "3          AP  0.106322     0.065339   0.103356\n",
      "4  RBP(rel=1)  0.279450     0.173296   0.273189\n"
     ]
    }
   ],
   "source": [
    "# Define metrics based on the given format\n",
    "metrics = [nDCG@20, MAP, Recall@100, Recall@1000]\n",
    "\n",
    "# Initialize a dictionary to store results for each algorithm\n",
    "results = {}\n",
    "\n",
    "# Define your algorithms and their results\n",
    "algorithms = {\n",
    "    \"Cosine Similarity\": cosine_results,\n",
    "    \"Dot Product\": dot_product_results,\n",
    "    \"Euclidean Distance\": euclidean_results\n",
    "}\n",
    "\n",
    "# Iterate over algorithms and compute metrics\n",
    "for algorithm_name, retrieved_results in algorithms.items():\n",
    "    # Calculate metrics\n",
    "    scores = calc_aggregate(metrics, qrels_ir, retrieved_results)\n",
    "\n",
    "    # Prepare data for RBP calculation\n",
    "    retrieved_results_dict = defaultdict(list)\n",
    "    for scored_doc in retrieved_results:\n",
    "        retrieved_results_dict[scored_doc.query_id].append((scored_doc.doc_id, scored_doc.score))\n",
    "\n",
    "    # Calculate RBP scores\n",
    "    rbp_scores = rbp(retrieved_results_dict, qrels_ir)\n",
    "    avg_rbp = sum(rbp_scores.values()) / len(rbp_scores)\n",
    "\n",
    "    # Add RBP to the metrics\n",
    "    scores['RBP(rel=1)'] = avg_rbp\n",
    "\n",
    "    # Save the results for this algorithm\n",
    "    results[algorithm_name] = scores\n",
    "\n",
    "# Convert results into the desired format\n",
    "results_df = pd.DataFrame(results).T.reset_index()\n",
    "results_df = results_df.rename(columns={'index': 'Algorithm'})\n",
    "\n",
    "# Reformat into the required structure\n",
    "results_df = results_df.melt(id_vars=\"Algorithm\", var_name=\"Metric\", value_name=\"Score\")\n",
    "comparison_df = results_df.pivot(index=\"Metric\", columns=\"Algorithm\", values=\"Score\").reset_index()\n",
    "\n",
    "# Rename columns for clarity\n",
    "comparison_df.columns.name = None\n",
    "comparison_df.rename(columns={\"Cosine Similarity\": \"Cosine\", \"Dot Product\": \"Dot Product\", \"Euclidean Distance\": \"Euclidean\"}, inplace=True)\n",
    "\n",
    "\n",
    "\n",
    "# Optional: Save to CSV for further analysis\n",
    "comparison_df.to_csv(\"comparison_results_formatted.csv\", index=False)\n",
    "comparison_df = comparison_df.iloc[[3, 2, 4, 1, 0]].reset_index(drop=True)\n",
    "# Print the final comparison DataFrame\n",
    "print(comparison_df)\n"
   ]
  },
  {
   "cell_type": "code",
   "execution_count": 22,
   "metadata": {},
   "outputs": [
    {
     "data": {
      "image/png": "[encoded data removed]",
      "text/plain": [
       "<Figure size 1000x600 with 1 Axes>"
      ]
     },
     "metadata": {},
     "output_type": "display_data"
    }
   ],
   "source": [
    "# Bar chart for comparison\n",
    "comparison_df.set_index(\"Metric\").plot(kind=\"bar\", figsize=(10, 6))\n",
    "plt.title(\"Similarity Metric Comparison\")\n",
    "plt.ylabel(\"Score\")\n",
    "plt.xticks(rotation=0)\n",
    "plt.legend(title=\"Similarity Method\")\n",
    "plt.tight_layout()\n",
    "plt.show()"
   ]
  }
 ],
 "metadata": {
  "kernelspec": {
   "display_name": "Python 3",
   "language": "python",
   "name": "python3"
  },
  "language_info": {
   "codemirror_mode": {
    "name": "ipython",
    "version": 3
   },
   "file_extension": ".py",
   "mimetype": "text/x-python",
   "name": "python",
   "nbconvert_exporter": "python",
   "pygments_lexer": "ipython3",
   "version": "3.11.9"
  }
 },
 "nbformat": 4,
 "nbformat_minor": 2
}
