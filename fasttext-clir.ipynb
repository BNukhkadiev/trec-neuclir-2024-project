{
 "cells": [
  {
   "cell_type": "markdown",
   "metadata": {},
   "source": [
    "# Cross-lingual Fasttext"
   ]
  },
  {
   "cell_type": "markdown",
   "metadata": {},
   "source": [
    "## Preprocessing"
   ]
  },
  {
   "cell_type": "code",
   "execution_count": 1,
   "metadata": {},
   "outputs": [
    {
     "name": "stderr",
     "output_type": "stream",
     "text": [
      "[nltk_data] Downloading package stopwords to\n",
      "[nltk_data]     /Users/bagautdinnukhkadiev/nltk_data...\n",
      "[nltk_data]   Package stopwords is already up-to-date!\n"
     ]
    }
   ],
   "source": [
    "from sklearn.feature_extraction.text import TfidfVectorizer\n",
    "import pandas as pd\n",
    "\n",
    "\n",
    "documents = pd.read_csv('data/documents_subset.csv', sep='\\t')\n",
    "documents['doc_title'] = documents['doc_title'].replace(r'[^\\w\\s]',' ',regex=True).replace(r'\\s+',' ',regex=True).str.lower()\n",
    "queries = pd.read_csv('data/queries.csv', sep='\\t')\n",
    "queries['query_text_rus'] = queries['query_text_rus'].replace(r'[^\\w\\s]',' ',regex=True).replace(r'\\s+',' ',regex=True).str.lower()\n",
    "\n",
    "import spacy\n",
    "from spacy import load\n",
    "from spacy.lang.ru.examples import sentences\n",
    "from spacy.lang.ru import Russian\n",
    "\n",
    "\n",
    "nlp = Russian()\n",
    "load_model = load(\"ru_core_news_sm\")\n",
    "\n",
    "lemma = []\n",
    "\n",
    "for doc in load_model.pipe(documents[\"doc_title\"].values.astype(str).tolist()):\n",
    "    lemma.append([n.lemma_ for n in doc])\n",
    "\n",
    "\n",
    "# lemma = [' '.join(i) for i in lemma]\n",
    "documents['doc_title_clean'] = lemma\n",
    "lemma = []\n",
    "\n",
    "for doc in load_model.pipe(queries[\"query_text_rus\"].values.astype(str).tolist()):\n",
    "    lemma.append([n.lemma_ for n in doc])\n",
    "\n",
    "\n",
    "# lemma = [' '.join(i) for i in lemma]\n",
    "queries['query_text_clean'] = lemma\n",
    "\n",
    "import nltk\n",
    "nltk.download('stopwords')\n",
    "from nltk.corpus import stopwords\n",
    "stopwords_ru = stopwords.words(\"russian\")\n",
    "documents['doc_title_clean'] = documents['doc_title_clean'].apply(lambda x: [item for item in x if item not in stopwords_ru])\n",
    "documents['doc_title_clean_as_str'] = [' '.join(map(str, l)) for l in documents['doc_title_clean']]\n",
    "# documents['doc_title_clean_as_str']\n",
    "\n",
    "\n",
    "queries['query_text_clean'] = queries['query_text_clean'].apply(lambda x: [item for item in x if item not in stopwords_ru])\n",
    "queries['query_text_clean_as_str'] = [' '.join(map(str, l)) for l in queries['query_text_clean']]\n",
    "# queries['query_text_clean_as_str']\n",
    "\n"
   ]
  },
  {
   "cell_type": "markdown",
   "metadata": {},
   "source": [
    "## Fasttext embeddings"
   ]
  },
  {
   "cell_type": "code",
   "execution_count": 2,
   "metadata": {},
   "outputs": [
    {
     "ename": "ModuleNotFoundError",
     "evalue": "No module named 'fasttext'",
     "output_type": "error",
     "traceback": [
      "\u001b[0;31m---------------------------------------------------------------------------\u001b[0m",
      "\u001b[0;31mModuleNotFoundError\u001b[0m                       Traceback (most recent call last)",
      "Cell \u001b[0;32mIn[2], line 1\u001b[0m\n\u001b[0;32m----> 1\u001b[0m \u001b[38;5;28;01mimport\u001b[39;00m \u001b[38;5;21;01mfasttext\u001b[39;00m\n\u001b[1;32m      2\u001b[0m \u001b[38;5;28;01mimport\u001b[39;00m \u001b[38;5;21;01mfasttext\u001b[39;00m\u001b[38;5;21;01m.\u001b[39;00m\u001b[38;5;21;01mutil\u001b[39;00m\n\u001b[1;32m      4\u001b[0m \u001b[38;5;66;03m# Load embeddings\u001b[39;00m\n",
      "\u001b[0;31mModuleNotFoundError\u001b[0m: No module named 'fasttext'"
     ]
    }
   ],
   "source": [
    "import fasttext\n",
    "import fasttext.util\n",
    "\n",
    "# Load embeddings\n",
    "fasttext.util.download_model('en', if_exists='ignore')\n",
    "fasttext.util.download_model('ru', if_exists='ignore')\n",
    "en_model = fasttext.load_model('cc.en.300.bin')\n",
    "ru_model = fasttext.load_model('cc.ru.300.bin')\n"
   ]
  },
  {
   "cell_type": "code",
   "execution_count": null,
   "metadata": {},
   "outputs": [],
   "source": [
    "\n",
    "# Find Russian equivalents for English query terms\n",
    "aligned_query = \" \".join(ru_model.get_nearest_neighbors(en_model[word])[0][1] for word in english_query.split())"
   ]
  },
  {
   "cell_type": "code",
   "execution_count": null,
   "metadata": {},
   "outputs": [],
   "source": [
    "# Step 2: Align English query to Russian terms\n",
    "def align_query_to_russian(english_query, en_model, ru_model):\n",
    "    russian_query_terms = []\n",
    "    for word in english_query.split():\n",
    "        try:\n",
    "            # Find the nearest neighbor in Russian space\n",
    "            nearest_neighbors = ru_model.get_nearest_neighbors(en_model[word])\n",
    "            russian_query_terms.append(nearest_neighbors[0][1])  # Take the closest word\n",
    "        except KeyError:\n",
    "            # Handle words not in the embedding vocabulary\n",
    "            russian_query_terms.append(\"\")\n",
    "    return \" \".join(russian_query_terms).strip()\n",
    "\n",
    "aligned_query = align_query_to_russian(english_query, en_model, ru_model)\n",
    "\n",
    "# Step 3: Compute document similarities\n",
    "def compute_query_document_similarities(query, documents, ru_model):\n",
    "    # Convert query to vector (mean of its word vectors)\n",
    "    query_vector = np.mean([ru_model[word] for word in query.split() if word in ru_model], axis=0)\n",
    "\n",
    "    # Compute similarities\n",
    "    similarities = {}\n",
    "    for doc_id, doc_text in documents.items():\n",
    "        doc_vector = np.mean([ru_model[word] for word in doc_text.split() if word in ru_model], axis=0)\n",
    "        similarity = cosine_similarity([query_vector], [doc_vector])[0][0]\n",
    "        similarities[doc_id] = similarity\n",
    "    return similarities\n",
    "\n",
    "similarities = compute_query_document_similarities(aligned_query, documents, ru_model)\n",
    "\n",
    "# Step 4: Save results into rankings dictionary\n",
    "rankings = {\"query_1\": sorted(similarities.items(), key=lambda x: x[1], reverse=True)}\n",
    "\n",
    "# Print rankings\n",
    "print(\"Rankings Dictionary:\")\n",
    "print(rankings)\n"
   ]
  }
 ],
 "metadata": {
  "kernelspec": {
   "display_name": "ir_env",
   "language": "python",
   "name": "python3"
  },
  "language_info": {
   "codemirror_mode": {
    "name": "ipython",
    "version": 3
   },
   "file_extension": ".py",
   "mimetype": "text/x-python",
   "name": "python",
   "nbconvert_exporter": "python",
   "pygments_lexer": "ipython3",
   "version": "3.12.7"
  }
 },
 "nbformat": 4,
 "nbformat_minor": 2
}
